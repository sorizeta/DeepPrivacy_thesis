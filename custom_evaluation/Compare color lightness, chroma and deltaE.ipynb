{
 "cells": [
  {
   "cell_type": "code",
   "execution_count": 2,
   "id": "96fae28c",
   "metadata": {},
   "outputs": [],
   "source": [
    "import pandas as pd"
   ]
  },
  {
   "cell_type": "code",
   "execution_count": 6,
   "id": "e1824b6d",
   "metadata": {},
   "outputs": [],
   "source": [
    "def read_and_describe(filename):\n",
    "    df = pd.read_csv(filename, names = [\"filename\", \"deltaL\", \"deltaC\", \"deltaE\"], sep=',')\n",
    "    df.set_index(\"filename\")\n",
    "    return df.describe(percentiles = [.10, .25, .5, .75, .90])"
   ]
  },
  {
   "cell_type": "markdown",
   "id": "63156e57",
   "metadata": {},
   "source": [
    "# Original image - anonymisation with old pipeline"
   ]
  },
  {
   "cell_type": "markdown",
   "id": "cef66433",
   "metadata": {},
   "source": [
    "Comparison between the test images, not anonymised, and test images anonymised with no lighting direction and colour correction."
   ]
  },
  {
   "cell_type": "code",
   "execution_count": 3,
   "id": "f70a3844",
   "metadata": {},
   "outputs": [
    {
     "data": {
      "text/html": [
       "<div>\n",
       "<style scoped>\n",
       "    .dataframe tbody tr th:only-of-type {\n",
       "        vertical-align: middle;\n",
       "    }\n",
       "\n",
       "    .dataframe tbody tr th {\n",
       "        vertical-align: top;\n",
       "    }\n",
       "\n",
       "    .dataframe thead th {\n",
       "        text-align: right;\n",
       "    }\n",
       "</style>\n",
       "<table border=\"1\" class=\"dataframe\">\n",
       "  <thead>\n",
       "    <tr style=\"text-align: right;\">\n",
       "      <th></th>\n",
       "      <th>deltaL</th>\n",
       "      <th>deltaC</th>\n",
       "      <th>deltaE</th>\n",
       "    </tr>\n",
       "  </thead>\n",
       "  <tbody>\n",
       "    <tr>\n",
       "      <th>count</th>\n",
       "      <td>2977.000000</td>\n",
       "      <td>2977.000000</td>\n",
       "      <td>2977.000000</td>\n",
       "    </tr>\n",
       "    <tr>\n",
       "      <th>mean</th>\n",
       "      <td>0.622098</td>\n",
       "      <td>0.840688</td>\n",
       "      <td>6.857506</td>\n",
       "    </tr>\n",
       "    <tr>\n",
       "      <th>std</th>\n",
       "      <td>0.552013</td>\n",
       "      <td>0.907252</td>\n",
       "      <td>1.705547</td>\n",
       "    </tr>\n",
       "    <tr>\n",
       "      <th>min</th>\n",
       "      <td>0.000413</td>\n",
       "      <td>0.000004</td>\n",
       "      <td>0.418217</td>\n",
       "    </tr>\n",
       "    <tr>\n",
       "      <th>25%</th>\n",
       "      <td>0.230762</td>\n",
       "      <td>0.272837</td>\n",
       "      <td>5.658284</td>\n",
       "    </tr>\n",
       "    <tr>\n",
       "      <th>50%</th>\n",
       "      <td>0.491537</td>\n",
       "      <td>0.586607</td>\n",
       "      <td>6.561452</td>\n",
       "    </tr>\n",
       "    <tr>\n",
       "      <th>75%</th>\n",
       "      <td>0.860069</td>\n",
       "      <td>1.131140</td>\n",
       "      <td>7.689704</td>\n",
       "    </tr>\n",
       "    <tr>\n",
       "      <th>max</th>\n",
       "      <td>5.894810</td>\n",
       "      <td>14.827500</td>\n",
       "      <td>21.076774</td>\n",
       "    </tr>\n",
       "  </tbody>\n",
       "</table>\n",
       "</div>"
      ],
      "text/plain": [
       "            deltaL       deltaC       deltaE\n",
       "count  2977.000000  2977.000000  2977.000000\n",
       "mean      0.622098     0.840688     6.857506\n",
       "std       0.552013     0.907252     1.705547\n",
       "min       0.000413     0.000004     0.418217\n",
       "25%       0.230762     0.272837     5.658284\n",
       "50%       0.491537     0.586607     6.561452\n",
       "75%       0.860069     1.131140     7.689704\n",
       "max       5.894810    14.827500    21.076774"
      ]
     },
     "execution_count": 3,
     "metadata": {},
     "output_type": "execute_result"
    }
   ],
   "source": [
    "read_and_describe('deltas-origanon.csv')"
   ]
  },
  {
   "cell_type": "markdown",
   "id": "1fa51ad0",
   "metadata": {},
   "source": [
    "# Original image - anonymisation with new pipeline"
   ]
  },
  {
   "cell_type": "markdown",
   "id": "9d177b1a",
   "metadata": {},
   "source": [
    "## Light correction on RGB"
   ]
  },
  {
   "cell_type": "markdown",
   "id": "4753fef4",
   "metadata": {},
   "source": [
    "Comparison between test images not anonymised and test images anonymised with color correction and lighting correction on RGB color space"
   ]
  },
  {
   "cell_type": "code",
   "execution_count": 4,
   "id": "b8029262",
   "metadata": {
    "scrolled": true
   },
   "outputs": [
    {
     "data": {
      "text/html": [
       "<div>\n",
       "<style scoped>\n",
       "    .dataframe tbody tr th:only-of-type {\n",
       "        vertical-align: middle;\n",
       "    }\n",
       "\n",
       "    .dataframe tbody tr th {\n",
       "        vertical-align: top;\n",
       "    }\n",
       "\n",
       "    .dataframe thead th {\n",
       "        text-align: right;\n",
       "    }\n",
       "</style>\n",
       "<table border=\"1\" class=\"dataframe\">\n",
       "  <thead>\n",
       "    <tr style=\"text-align: right;\">\n",
       "      <th></th>\n",
       "      <th>deltaL</th>\n",
       "      <th>deltaC</th>\n",
       "      <th>deltaE</th>\n",
       "    </tr>\n",
       "  </thead>\n",
       "  <tbody>\n",
       "    <tr>\n",
       "      <th>count</th>\n",
       "      <td>2975.000000</td>\n",
       "      <td>2975.000000</td>\n",
       "      <td>2975.000000</td>\n",
       "    </tr>\n",
       "    <tr>\n",
       "      <th>mean</th>\n",
       "      <td>1.695975</td>\n",
       "      <td>0.863248</td>\n",
       "      <td>8.008847</td>\n",
       "    </tr>\n",
       "    <tr>\n",
       "      <th>std</th>\n",
       "      <td>1.493330</td>\n",
       "      <td>0.925879</td>\n",
       "      <td>2.307922</td>\n",
       "    </tr>\n",
       "    <tr>\n",
       "      <th>min</th>\n",
       "      <td>0.001264</td>\n",
       "      <td>0.000262</td>\n",
       "      <td>0.343548</td>\n",
       "    </tr>\n",
       "    <tr>\n",
       "      <th>25%</th>\n",
       "      <td>0.612394</td>\n",
       "      <td>0.281809</td>\n",
       "      <td>6.402756</td>\n",
       "    </tr>\n",
       "    <tr>\n",
       "      <th>50%</th>\n",
       "      <td>1.331100</td>\n",
       "      <td>0.623011</td>\n",
       "      <td>7.533776</td>\n",
       "    </tr>\n",
       "    <tr>\n",
       "      <th>75%</th>\n",
       "      <td>2.329635</td>\n",
       "      <td>1.141555</td>\n",
       "      <td>9.019930</td>\n",
       "    </tr>\n",
       "    <tr>\n",
       "      <th>max</th>\n",
       "      <td>14.575300</td>\n",
       "      <td>16.367900</td>\n",
       "      <td>24.797331</td>\n",
       "    </tr>\n",
       "  </tbody>\n",
       "</table>\n",
       "</div>"
      ],
      "text/plain": [
       "            deltaL       deltaC       deltaE\n",
       "count  2975.000000  2975.000000  2975.000000\n",
       "mean      1.695975     0.863248     8.008847\n",
       "std       1.493330     0.925879     2.307922\n",
       "min       0.001264     0.000262     0.343548\n",
       "25%       0.612394     0.281809     6.402756\n",
       "50%       1.331100     0.623011     7.533776\n",
       "75%       2.329635     1.141555     9.019930\n",
       "max      14.575300    16.367900    24.797331"
      ]
     },
     "execution_count": 4,
     "metadata": {},
     "output_type": "execute_result"
    }
   ],
   "source": [
    "read_and_describe('deltas-origrgb.csv')"
   ]
  },
  {
   "cell_type": "markdown",
   "id": "ab1d1f73",
   "metadata": {},
   "source": [
    "## Light correction on HSV"
   ]
  },
  {
   "cell_type": "markdown",
   "id": "bfd50fa2",
   "metadata": {},
   "source": [
    "Comparison between test images not anonymised and test images anonymised with color correction and lighting correction on HSV color space"
   ]
  },
  {
   "cell_type": "code",
   "execution_count": 5,
   "id": "ced3fe9f",
   "metadata": {
    "scrolled": false
   },
   "outputs": [
    {
     "data": {
      "text/html": [
       "<div>\n",
       "<style scoped>\n",
       "    .dataframe tbody tr th:only-of-type {\n",
       "        vertical-align: middle;\n",
       "    }\n",
       "\n",
       "    .dataframe tbody tr th {\n",
       "        vertical-align: top;\n",
       "    }\n",
       "\n",
       "    .dataframe thead th {\n",
       "        text-align: right;\n",
       "    }\n",
       "</style>\n",
       "<table border=\"1\" class=\"dataframe\">\n",
       "  <thead>\n",
       "    <tr style=\"text-align: right;\">\n",
       "      <th></th>\n",
       "      <th>deltaL</th>\n",
       "      <th>deltaC</th>\n",
       "      <th>deltaE</th>\n",
       "    </tr>\n",
       "  </thead>\n",
       "  <tbody>\n",
       "    <tr>\n",
       "      <th>count</th>\n",
       "      <td>2970.000000</td>\n",
       "      <td>2970.000000</td>\n",
       "      <td>2970.000000</td>\n",
       "    </tr>\n",
       "    <tr>\n",
       "      <th>mean</th>\n",
       "      <td>0.568612</td>\n",
       "      <td>0.835120</td>\n",
       "      <td>6.111993</td>\n",
       "    </tr>\n",
       "    <tr>\n",
       "      <th>std</th>\n",
       "      <td>0.510631</td>\n",
       "      <td>0.903199</td>\n",
       "      <td>1.488887</td>\n",
       "    </tr>\n",
       "    <tr>\n",
       "      <th>min</th>\n",
       "      <td>0.000050</td>\n",
       "      <td>0.000517</td>\n",
       "      <td>0.418439</td>\n",
       "    </tr>\n",
       "    <tr>\n",
       "      <th>25%</th>\n",
       "      <td>0.204824</td>\n",
       "      <td>0.262617</td>\n",
       "      <td>5.102351</td>\n",
       "    </tr>\n",
       "    <tr>\n",
       "      <th>50%</th>\n",
       "      <td>0.443547</td>\n",
       "      <td>0.588348</td>\n",
       "      <td>5.832677</td>\n",
       "    </tr>\n",
       "    <tr>\n",
       "      <th>75%</th>\n",
       "      <td>0.786045</td>\n",
       "      <td>1.128525</td>\n",
       "      <td>6.806830</td>\n",
       "    </tr>\n",
       "    <tr>\n",
       "      <th>max</th>\n",
       "      <td>6.040400</td>\n",
       "      <td>14.643400</td>\n",
       "      <td>18.473788</td>\n",
       "    </tr>\n",
       "  </tbody>\n",
       "</table>\n",
       "</div>"
      ],
      "text/plain": [
       "            deltaL       deltaC       deltaE\n",
       "count  2970.000000  2970.000000  2970.000000\n",
       "mean      0.568612     0.835120     6.111993\n",
       "std       0.510631     0.903199     1.488887\n",
       "min       0.000050     0.000517     0.418439\n",
       "25%       0.204824     0.262617     5.102351\n",
       "50%       0.443547     0.588348     5.832677\n",
       "75%       0.786045     1.128525     6.806830\n",
       "max       6.040400    14.643400    18.473788"
      ]
     },
     "execution_count": 5,
     "metadata": {},
     "output_type": "execute_result"
    }
   ],
   "source": [
    "read_and_describe('deltas-orighsv.csv')"
   ]
  },
  {
   "cell_type": "markdown",
   "id": "60b048af",
   "metadata": {},
   "source": [
    "## Light correction on YCbCr"
   ]
  },
  {
   "cell_type": "markdown",
   "id": "d69963c3",
   "metadata": {},
   "source": [
    "Comparison between test images not anonymised and test images anonymised with color correction and lighting correction on YCbCr color space"
   ]
  },
  {
   "cell_type": "code",
   "execution_count": 6,
   "id": "23f27ebb",
   "metadata": {
    "scrolled": true
   },
   "outputs": [
    {
     "data": {
      "text/html": [
       "<div>\n",
       "<style scoped>\n",
       "    .dataframe tbody tr th:only-of-type {\n",
       "        vertical-align: middle;\n",
       "    }\n",
       "\n",
       "    .dataframe tbody tr th {\n",
       "        vertical-align: top;\n",
       "    }\n",
       "\n",
       "    .dataframe thead th {\n",
       "        text-align: right;\n",
       "    }\n",
       "</style>\n",
       "<table border=\"1\" class=\"dataframe\">\n",
       "  <thead>\n",
       "    <tr style=\"text-align: right;\">\n",
       "      <th></th>\n",
       "      <th>deltaL</th>\n",
       "      <th>deltaC</th>\n",
       "      <th>deltaE</th>\n",
       "    </tr>\n",
       "  </thead>\n",
       "  <tbody>\n",
       "    <tr>\n",
       "      <th>count</th>\n",
       "      <td>2966.000000</td>\n",
       "      <td>2966.000000</td>\n",
       "      <td>2966.000000</td>\n",
       "    </tr>\n",
       "    <tr>\n",
       "      <th>mean</th>\n",
       "      <td>0.209479</td>\n",
       "      <td>0.838135</td>\n",
       "      <td>5.861265</td>\n",
       "    </tr>\n",
       "    <tr>\n",
       "      <th>std</th>\n",
       "      <td>0.194725</td>\n",
       "      <td>0.877189</td>\n",
       "      <td>1.389386</td>\n",
       "    </tr>\n",
       "    <tr>\n",
       "      <th>min</th>\n",
       "      <td>0.000143</td>\n",
       "      <td>0.000446</td>\n",
       "      <td>0.465820</td>\n",
       "    </tr>\n",
       "    <tr>\n",
       "      <th>25%</th>\n",
       "      <td>0.075520</td>\n",
       "      <td>0.276184</td>\n",
       "      <td>4.917747</td>\n",
       "    </tr>\n",
       "    <tr>\n",
       "      <th>50%</th>\n",
       "      <td>0.162788</td>\n",
       "      <td>0.617433</td>\n",
       "      <td>5.617930</td>\n",
       "    </tr>\n",
       "    <tr>\n",
       "      <th>75%</th>\n",
       "      <td>0.287005</td>\n",
       "      <td>1.126745</td>\n",
       "      <td>6.529351</td>\n",
       "    </tr>\n",
       "    <tr>\n",
       "      <th>max</th>\n",
       "      <td>3.358960</td>\n",
       "      <td>14.883800</td>\n",
       "      <td>16.596924</td>\n",
       "    </tr>\n",
       "  </tbody>\n",
       "</table>\n",
       "</div>"
      ],
      "text/plain": [
       "            deltaL       deltaC       deltaE\n",
       "count  2966.000000  2966.000000  2966.000000\n",
       "mean      0.209479     0.838135     5.861265\n",
       "std       0.194725     0.877189     1.389386\n",
       "min       0.000143     0.000446     0.465820\n",
       "25%       0.075520     0.276184     4.917747\n",
       "50%       0.162788     0.617433     5.617930\n",
       "75%       0.287005     1.126745     6.529351\n",
       "max       3.358960    14.883800    16.596924"
      ]
     },
     "execution_count": 6,
     "metadata": {},
     "output_type": "execute_result"
    }
   ],
   "source": [
    "read_and_describe('deltas-origycbcr.csv')"
   ]
  },
  {
   "cell_type": "code",
   "execution_count": null,
   "id": "d9988cce",
   "metadata": {},
   "outputs": [],
   "source": []
  },
  {
   "cell_type": "markdown",
   "id": "0b0844f3",
   "metadata": {},
   "source": [
    "# Anonymisation with old pipeline - Anonymisation with new pipeline"
   ]
  },
  {
   "cell_type": "markdown",
   "id": "79931041",
   "metadata": {},
   "source": [
    "## Light correction on RGB"
   ]
  },
  {
   "cell_type": "markdown",
   "id": "c37105fe",
   "metadata": {},
   "source": [
    "Comparison between test images anonymised with no lighting direction and colour correction and test images anonymised with color correction and lighting correction on RGB color space"
   ]
  },
  {
   "cell_type": "code",
   "execution_count": 7,
   "id": "c8d4a9f5",
   "metadata": {},
   "outputs": [
    {
     "data": {
      "text/html": [
       "<div>\n",
       "<style scoped>\n",
       "    .dataframe tbody tr th:only-of-type {\n",
       "        vertical-align: middle;\n",
       "    }\n",
       "\n",
       "    .dataframe tbody tr th {\n",
       "        vertical-align: top;\n",
       "    }\n",
       "\n",
       "    .dataframe thead th {\n",
       "        text-align: right;\n",
       "    }\n",
       "</style>\n",
       "<table border=\"1\" class=\"dataframe\">\n",
       "  <thead>\n",
       "    <tr style=\"text-align: right;\">\n",
       "      <th></th>\n",
       "      <th>deltaL</th>\n",
       "      <th>deltaC</th>\n",
       "      <th>deltaE</th>\n",
       "    </tr>\n",
       "  </thead>\n",
       "  <tbody>\n",
       "    <tr>\n",
       "      <th>count</th>\n",
       "      <td>2963.000000</td>\n",
       "      <td>2963.000000</td>\n",
       "      <td>2963.000000</td>\n",
       "    </tr>\n",
       "    <tr>\n",
       "      <th>mean</th>\n",
       "      <td>1.252702</td>\n",
       "      <td>0.481201</td>\n",
       "      <td>3.138914</td>\n",
       "    </tr>\n",
       "    <tr>\n",
       "      <th>std</th>\n",
       "      <td>1.184685</td>\n",
       "      <td>0.507066</td>\n",
       "      <td>1.499594</td>\n",
       "    </tr>\n",
       "    <tr>\n",
       "      <th>min</th>\n",
       "      <td>0.000108</td>\n",
       "      <td>0.000040</td>\n",
       "      <td>0.301045</td>\n",
       "    </tr>\n",
       "    <tr>\n",
       "      <th>25%</th>\n",
       "      <td>0.430530</td>\n",
       "      <td>0.150547</td>\n",
       "      <td>2.158378</td>\n",
       "    </tr>\n",
       "    <tr>\n",
       "      <th>50%</th>\n",
       "      <td>0.944128</td>\n",
       "      <td>0.334432</td>\n",
       "      <td>2.732809</td>\n",
       "    </tr>\n",
       "    <tr>\n",
       "      <th>75%</th>\n",
       "      <td>1.689200</td>\n",
       "      <td>0.653560</td>\n",
       "      <td>3.655643</td>\n",
       "    </tr>\n",
       "    <tr>\n",
       "      <th>max</th>\n",
       "      <td>10.145500</td>\n",
       "      <td>5.523080</td>\n",
       "      <td>14.189799</td>\n",
       "    </tr>\n",
       "  </tbody>\n",
       "</table>\n",
       "</div>"
      ],
      "text/plain": [
       "            deltaL       deltaC       deltaE\n",
       "count  2963.000000  2963.000000  2963.000000\n",
       "mean      1.252702     0.481201     3.138914\n",
       "std       1.184685     0.507066     1.499594\n",
       "min       0.000108     0.000040     0.301045\n",
       "25%       0.430530     0.150547     2.158378\n",
       "50%       0.944128     0.334432     2.732809\n",
       "75%       1.689200     0.653560     3.655643\n",
       "max      10.145500     5.523080    14.189799"
      ]
     },
     "execution_count": 7,
     "metadata": {},
     "output_type": "execute_result"
    }
   ],
   "source": [
    "read_and_describe('deltas-anonrgb.csv')"
   ]
  },
  {
   "cell_type": "markdown",
   "id": "856a452a",
   "metadata": {},
   "source": [
    "## Light correction on HSV"
   ]
  },
  {
   "cell_type": "markdown",
   "id": "52a79a72",
   "metadata": {},
   "source": [
    "Comparison between test images anonymised with no lighting direction and colour correction and test images anonymised with color correction and lighting correction on HSV color space"
   ]
  },
  {
   "cell_type": "code",
   "execution_count": 8,
   "id": "3d235dea",
   "metadata": {
    "scrolled": true
   },
   "outputs": [
    {
     "data": {
      "text/html": [
       "<div>\n",
       "<style scoped>\n",
       "    .dataframe tbody tr th:only-of-type {\n",
       "        vertical-align: middle;\n",
       "    }\n",
       "\n",
       "    .dataframe tbody tr th {\n",
       "        vertical-align: top;\n",
       "    }\n",
       "\n",
       "    .dataframe thead th {\n",
       "        text-align: right;\n",
       "    }\n",
       "</style>\n",
       "<table border=\"1\" class=\"dataframe\">\n",
       "  <thead>\n",
       "    <tr style=\"text-align: right;\">\n",
       "      <th></th>\n",
       "      <th>deltaL</th>\n",
       "      <th>deltaC</th>\n",
       "      <th>deltaE</th>\n",
       "    </tr>\n",
       "  </thead>\n",
       "  <tbody>\n",
       "    <tr>\n",
       "      <th>count</th>\n",
       "      <td>2957.000000</td>\n",
       "      <td>2957.000000</td>\n",
       "      <td>2957.000000</td>\n",
       "    </tr>\n",
       "    <tr>\n",
       "      <th>mean</th>\n",
       "      <td>0.110153</td>\n",
       "      <td>0.070338</td>\n",
       "      <td>1.739040</td>\n",
       "    </tr>\n",
       "    <tr>\n",
       "      <th>std</th>\n",
       "      <td>0.116543</td>\n",
       "      <td>0.081315</td>\n",
       "      <td>0.549135</td>\n",
       "    </tr>\n",
       "    <tr>\n",
       "      <th>min</th>\n",
       "      <td>0.000158</td>\n",
       "      <td>0.000048</td>\n",
       "      <td>0.003334</td>\n",
       "    </tr>\n",
       "    <tr>\n",
       "      <th>25%</th>\n",
       "      <td>0.036409</td>\n",
       "      <td>0.021394</td>\n",
       "      <td>1.345289</td>\n",
       "    </tr>\n",
       "    <tr>\n",
       "      <th>50%</th>\n",
       "      <td>0.078551</td>\n",
       "      <td>0.048251</td>\n",
       "      <td>1.634356</td>\n",
       "    </tr>\n",
       "    <tr>\n",
       "      <th>75%</th>\n",
       "      <td>0.143997</td>\n",
       "      <td>0.090007</td>\n",
       "      <td>2.033950</td>\n",
       "    </tr>\n",
       "    <tr>\n",
       "      <th>max</th>\n",
       "      <td>1.296210</td>\n",
       "      <td>1.221110</td>\n",
       "      <td>5.848459</td>\n",
       "    </tr>\n",
       "  </tbody>\n",
       "</table>\n",
       "</div>"
      ],
      "text/plain": [
       "            deltaL       deltaC       deltaE\n",
       "count  2957.000000  2957.000000  2957.000000\n",
       "mean      0.110153     0.070338     1.739040\n",
       "std       0.116543     0.081315     0.549135\n",
       "min       0.000158     0.000048     0.003334\n",
       "25%       0.036409     0.021394     1.345289\n",
       "50%       0.078551     0.048251     1.634356\n",
       "75%       0.143997     0.090007     2.033950\n",
       "max       1.296210     1.221110     5.848459"
      ]
     },
     "execution_count": 8,
     "metadata": {},
     "output_type": "execute_result"
    }
   ],
   "source": [
    "read_and_describe('deltas-anonhsv.csv')"
   ]
  },
  {
   "cell_type": "markdown",
   "id": "78441d76",
   "metadata": {},
   "source": [
    "## Light correction on YCbCr"
   ]
  },
  {
   "cell_type": "markdown",
   "id": "4a7f16f5",
   "metadata": {},
   "source": [
    "Comparison between test images anonymised with no lighting direction and colour correction and test images anonymised with color correction and lighting correction on YCbCr color space"
   ]
  },
  {
   "cell_type": "code",
   "execution_count": 9,
   "id": "3de29875",
   "metadata": {
    "scrolled": true
   },
   "outputs": [
    {
     "data": {
      "text/html": [
       "<div>\n",
       "<style scoped>\n",
       "    .dataframe tbody tr th:only-of-type {\n",
       "        vertical-align: middle;\n",
       "    }\n",
       "\n",
       "    .dataframe tbody tr th {\n",
       "        vertical-align: top;\n",
       "    }\n",
       "\n",
       "    .dataframe thead th {\n",
       "        text-align: right;\n",
       "    }\n",
       "</style>\n",
       "<table border=\"1\" class=\"dataframe\">\n",
       "  <thead>\n",
       "    <tr style=\"text-align: right;\">\n",
       "      <th></th>\n",
       "      <th>deltaL</th>\n",
       "      <th>deltaC</th>\n",
       "      <th>deltaE</th>\n",
       "    </tr>\n",
       "  </thead>\n",
       "  <tbody>\n",
       "    <tr>\n",
       "      <th>count</th>\n",
       "      <td>2968.000000</td>\n",
       "      <td>2968.000000</td>\n",
       "      <td>2968.000000</td>\n",
       "    </tr>\n",
       "    <tr>\n",
       "      <th>mean</th>\n",
       "      <td>0.544071</td>\n",
       "      <td>0.588382</td>\n",
       "      <td>2.960727</td>\n",
       "    </tr>\n",
       "    <tr>\n",
       "      <th>std</th>\n",
       "      <td>0.520004</td>\n",
       "      <td>0.613204</td>\n",
       "      <td>0.883124</td>\n",
       "    </tr>\n",
       "    <tr>\n",
       "      <th>min</th>\n",
       "      <td>0.000122</td>\n",
       "      <td>0.000627</td>\n",
       "      <td>0.488380</td>\n",
       "    </tr>\n",
       "    <tr>\n",
       "      <th>25%</th>\n",
       "      <td>0.181566</td>\n",
       "      <td>0.184092</td>\n",
       "      <td>2.352519</td>\n",
       "    </tr>\n",
       "    <tr>\n",
       "      <th>50%</th>\n",
       "      <td>0.400170</td>\n",
       "      <td>0.414385</td>\n",
       "      <td>2.773433</td>\n",
       "    </tr>\n",
       "    <tr>\n",
       "      <th>75%</th>\n",
       "      <td>0.760874</td>\n",
       "      <td>0.805983</td>\n",
       "      <td>3.372226</td>\n",
       "    </tr>\n",
       "    <tr>\n",
       "      <th>max</th>\n",
       "      <td>6.360040</td>\n",
       "      <td>8.101570</td>\n",
       "      <td>10.146471</td>\n",
       "    </tr>\n",
       "  </tbody>\n",
       "</table>\n",
       "</div>"
      ],
      "text/plain": [
       "            deltaL       deltaC       deltaE\n",
       "count  2968.000000  2968.000000  2968.000000\n",
       "mean      0.544071     0.588382     2.960727\n",
       "std       0.520004     0.613204     0.883124\n",
       "min       0.000122     0.000627     0.488380\n",
       "25%       0.181566     0.184092     2.352519\n",
       "50%       0.400170     0.414385     2.773433\n",
       "75%       0.760874     0.805983     3.372226\n",
       "max       6.360040     8.101570    10.146471"
      ]
     },
     "execution_count": 9,
     "metadata": {},
     "output_type": "execute_result"
    }
   ],
   "source": [
    "read_and_describe('deltas-anonycbcr.csv')"
   ]
  },
  {
   "cell_type": "markdown",
   "id": "72caa7a8",
   "metadata": {},
   "source": [
    "# Src - Deep\n"
   ]
  },
  {
   "cell_type": "code",
   "execution_count": 7,
   "id": "4cc69606",
   "metadata": {},
   "outputs": [
    {
     "name": "stdout",
     "output_type": "stream",
     "text": [
      "\\begin{tabular}{lrrr}\n",
      " & deltaL & deltaC & deltaE \\\\\n",
      "count & 100.000000 & 100.000000 & 100.000000 \\\\\n",
      "mean & 1.004990 & 1.562351 & 3.058603 \\\\\n",
      "std & 0.907277 & 0.746697 & 1.031957 \\\\\n",
      "min & 0.042854 & 0.595376 & 1.360067 \\\\\n",
      "10% & 0.136789 & 0.891877 & 2.053605 \\\\\n",
      "25% & 0.356953 & 1.140027 & 2.370423 \\\\\n",
      "50% & 0.775969 & 1.430880 & 2.954301 \\\\\n",
      "75% & 1.405640 & 1.785162 & 3.391049 \\\\\n",
      "90% & 2.229061 & 2.104187 & 4.100369 \\\\\n",
      "max & 5.321610 & 5.293090 & 8.626517 \\\\\n",
      "\\end{tabular}\n",
      "\n"
     ]
    }
   ],
   "source": [
    "print(read_and_describe('srcdeep.csv').style.to_latex())"
   ]
  },
  {
   "cell_type": "code",
   "execution_count": 8,
   "id": "f949bb4e",
   "metadata": {},
   "outputs": [
    {
     "name": "stdout",
     "output_type": "stream",
     "text": [
      "\\begin{tabular}{lrrr}\n",
      " & deltaL & deltaC & deltaE \\\\\n",
      "count & 94.000000 & 94.000000 & 94.000000 \\\\\n",
      "mean & 0.437974 & 1.336519 & 2.476180 \\\\\n",
      "std & 0.385887 & 0.399194 & 0.506765 \\\\\n",
      "min & 0.000329 & 0.641950 & 1.523172 \\\\\n",
      "10% & 0.045255 & 0.940303 & 1.845189 \\\\\n",
      "25% & 0.155342 & 1.106120 & 2.106299 \\\\\n",
      "50% & 0.344353 & 1.270480 & 2.466800 \\\\\n",
      "75% & 0.643720 & 1.472545 & 2.806042 \\\\\n",
      "90% & 0.903928 & 1.883043 & 3.053646 \\\\\n",
      "max & 2.172340 & 3.100300 & 4.158070 \\\\\n",
      "\\end{tabular}\n",
      "\n"
     ]
    }
   ],
   "source": [
    "print(read_and_describe('anondeep.csv').style.to_latex())"
   ]
  },
  {
   "cell_type": "code",
   "execution_count": null,
   "id": "3607e322",
   "metadata": {},
   "outputs": [],
   "source": []
  }
 ],
 "metadata": {
  "kernelspec": {
   "display_name": "Python 3 (ipykernel)",
   "language": "python",
   "name": "python3"
  },
  "language_info": {
   "codemirror_mode": {
    "name": "ipython",
    "version": 3
   },
   "file_extension": ".py",
   "mimetype": "text/x-python",
   "name": "python",
   "nbconvert_exporter": "python",
   "pygments_lexer": "ipython3",
   "version": "3.10.4"
  },
  "vscode": {
   "interpreter": {
    "hash": "a43a70465e70a2118f877dc9c3b754bfee9964fb8ce6ccdbd35febcd95d71b68"
   }
  }
 },
 "nbformat": 4,
 "nbformat_minor": 5
}
